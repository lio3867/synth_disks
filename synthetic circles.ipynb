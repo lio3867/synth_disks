{
 "cells": [
  {
   "cell_type": "code",
   "execution_count": 9,
   "metadata": {},
   "outputs": [
    {
     "name": "stdout",
     "output_type": "stream",
     "text": [
      "Using matplotlib backend: Qt5Agg\n"
     ]
    }
   ],
   "source": [
    "%matplotlib\n",
    "from synth_disks import SYNTH_DISKS as SD"
   ]
  },
  {
   "cell_type": "code",
   "execution_count": 15,
   "metadata": {},
   "outputs": [],
   "source": [
    "sd = SD(nb_disks=20)"
   ]
  },
  {
   "cell_type": "code",
   "execution_count": 16,
   "metadata": {},
   "outputs": [
    {
     "name": "stdout",
     "output_type": "stream",
     "text": [
      "self.ldisks_centers = [[338, 80], [124, 36], [245, 98], [366, 96], [94, 18], [399, 108], [332, 216], [62, 75], [382, 361], [13, 173], [249, 85], [22, 207], [292, 306], [102, 190], [299, 105], [184, 380], [158, 276], [365, 97], [137, 227], [314, 127]]\n",
      "random\n",
      "random\n",
      "random\n",
      "create the composite image..\n"
     ]
    }
   ],
   "source": [
    "sd.make_images('random', 3)"
   ]
  },
  {
   "cell_type": "code",
   "execution_count": 17,
   "metadata": {
    "scrolled": true
   },
   "outputs": [
    {
     "name": "stdout",
     "output_type": "stream",
     "text": [
      "using x=[338, 338, 330]\n",
      "using y=[80, 81, 87]\n",
      "using x=[124, 120, 128]\n",
      "using y=[36, 27, 23]\n",
      "using x=[245, 252, 250]\n",
      "using y=[98, 103, 111]\n",
      "using x=[366, 359, 357]\n",
      "using y=[96, 103, 96]\n",
      "using x=[94, 93, 87]\n",
      "using y=[18, 12, 11]\n",
      "using x=[399, 399, 399]\n",
      "using y=[108, 110, 107]\n",
      "using x=[332, 339, 329]\n",
      "using y=[216, 212, 202]\n",
      "using x=[62, 67, 61]\n",
      "using y=[75, 75, 67]\n",
      "using x=[382, 381, 387]\n",
      "using y=[361, 368, 376]\n",
      "using x=[13, 8, 2]\n",
      "using y=[173, 165, 171]\n",
      "using x=[249, 254, 260]\n",
      "using y=[85, 90, 95]\n",
      "using x=[22, 29, 25]\n",
      "using y=[207, 211, 204]\n",
      "using x=[292, 283, 287]\n",
      "using y=[306, 299, 307]\n",
      "using x=[102, 103, 108]\n",
      "using y=[190, 187, 191]\n",
      "using x=[299, 293, 296]\n",
      "using y=[105, 111, 104]\n",
      "using x=[184, 177, 185]\n",
      "using y=[380, 370, 377]\n",
      "using x=[158, 165, 170]\n",
      "using y=[276, 285, 275]\n",
      "using x=[365, 364, 356]\n",
      "using y=[97, 93, 89]\n",
      "using x=[137, 130, 129]\n",
      "using y=[227, 229, 224]\n",
      "using x=[314, 313, 318]\n",
      "using y=[127, 136, 140]\n"
     ]
    }
   ],
   "source": [
    "sd.make_masks(invert_y=False)"
   ]
  }
 ],
 "metadata": {
  "kernelspec": {
   "display_name": "Python 3",
   "language": "python",
   "name": "python3"
  },
  "language_info": {
   "codemirror_mode": {
    "name": "ipython",
    "version": 3
   },
   "file_extension": ".py",
   "mimetype": "text/x-python",
   "name": "python",
   "nbconvert_exporter": "python",
   "pygments_lexer": "ipython3",
   "version": "3.7.7"
  }
 },
 "nbformat": 4,
 "nbformat_minor": 4
}
